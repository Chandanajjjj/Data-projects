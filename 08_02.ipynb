{
  "nbformat": 4,
  "nbformat_minor": 0,
  "metadata": {
    "colab": {
      "provenance": []
    },
    "kernelspec": {
      "name": "python3",
      "display_name": "Python 3"
    },
    "language_info": {
      "name": "python"
    }
  },
  "cells": [
    {
      "cell_type": "code",
      "execution_count": null,
      "metadata": {
        "id": "mnGl5AKwyJ5b",
        "colab": {
          "base_uri": "https://localhost:8080/"
        },
        "outputId": "cea901d1-5273-48c3-bf48-31524d19d5f2"
      },
      "outputs": [
        {
          "output_type": "stream",
          "name": "stdout",
          "text": [
            "0    a\n",
            "1    b\n",
            "2    c\n",
            "3    d\n",
            "dtype: object\n"
          ]
        }
      ],
      "source": [
        "#import the pandas libary and aliasing as pd\n",
        "import pandas as pd\n",
        "import numpy as np\n",
        "data= np.array(['a','b','c','d'])\n",
        "s=pd.Series (data)\n",
        "print (s)"
      ]
    },
    {
      "cell_type": "code",
      "source": [
        "import pandas as pd\n",
        "import numpy as np\n",
        "data= np.array(['a','b','c','d'])\n",
        "s=pd.Series(data,index=[100,101,102,103])\n",
        "print(s)"
      ],
      "metadata": {
        "colab": {
          "base_uri": "https://localhost:8080/"
        },
        "id": "KetTfbMi6a2b",
        "outputId": "b06c714a-61d7-45c7-f824-7c15a3737e7b"
      },
      "execution_count": null,
      "outputs": [
        {
          "output_type": "stream",
          "name": "stdout",
          "text": [
            "100    a\n",
            "101    b\n",
            "102    c\n",
            "103    d\n",
            "dtype: object\n"
          ]
        }
      ]
    },
    {
      "cell_type": "code",
      "source": [
        "import pandas as pd\n",
        "import numpy as np\n",
        "data ={'a':0.1,'b':1.2,'c':2.2}\n",
        "s =pd.Series(data)\n",
        "print (s)\n"
      ],
      "metadata": {
        "colab": {
          "base_uri": "https://localhost:8080/"
        },
        "id": "41LU9FCZ7z4O",
        "outputId": "4f24f470-652a-447c-92ab-c73503ee21be"
      },
      "execution_count": null,
      "outputs": [
        {
          "output_type": "stream",
          "name": "stdout",
          "text": [
            "a    0.1\n",
            "b    1.2\n",
            "c    2.2\n",
            "dtype: float64\n"
          ]
        }
      ]
    },
    {
      "cell_type": "markdown",
      "source": [
        "import pandas as pd\n",
        "import numpy as np\n",
        "data ={'a':0.,'b':1.,'c':2.}\n",
        "s =pd.Series(data,index=['b','c','d','a'])\n",
        "print (s)"
      ],
      "metadata": {
        "id": "lxu74h4b8hgo"
      }
    },
    {
      "cell_type": "code",
      "source": [
        "import pandas as pd\n",
        "import numpy as np\n",
        "data ={'a':0.1,'b':1.2,'c':2.2}\n",
        "s =pd.Series(data,index=['a','d','c','b'])\n",
        "print (s)\n"
      ],
      "metadata": {
        "colab": {
          "base_uri": "https://localhost:8080/"
        },
        "id": "ayaogCS48hj8",
        "outputId": "aadc361b-5120-40ec-9f7d-0d49b09e6f26"
      },
      "execution_count": null,
      "outputs": [
        {
          "output_type": "stream",
          "name": "stdout",
          "text": [
            "a    0.1\n",
            "d    NaN\n",
            "c    2.2\n",
            "b    1.2\n",
            "dtype: float64\n"
          ]
        }
      ]
    },
    {
      "cell_type": "code",
      "source": [
        "import pandas as pd\n",
        "import numpy as np\n",
        "s =pd.Series(5,index=[0,1,2,3])\n",
        "print (s)\n"
      ],
      "metadata": {
        "colab": {
          "base_uri": "https://localhost:8080/"
        },
        "id": "IM1_sJka-Bbe",
        "outputId": "e95cd30a-3cfa-44e5-c895-d3f2f9217687"
      },
      "execution_count": null,
      "outputs": [
        {
          "output_type": "stream",
          "name": "stdout",
          "text": [
            "0    5\n",
            "1    5\n",
            "2    5\n",
            "3    5\n",
            "dtype: int64\n"
          ]
        }
      ]
    },
    {
      "cell_type": "code",
      "source": [
        "import pandas as pd\n",
        "s=pd.Series([1,2,3,4,5],index=['a','b','c','d','e'])\n",
        "#retrieve a single element\n",
        "print(s['a'])"
      ],
      "metadata": {
        "colab": {
          "base_uri": "https://localhost:8080/"
        },
        "id": "OGU7EkK2-rrk",
        "outputId": "e804915f-8270-45b3-9433-5cc8c926fdb0"
      },
      "execution_count": null,
      "outputs": [
        {
          "output_type": "stream",
          "name": "stdout",
          "text": [
            "1\n"
          ]
        }
      ]
    },
    {
      "cell_type": "code",
      "source": [
        "import pandas as pd\n",
        "df=pd.DataFrame()\n",
        "print(df)"
      ],
      "metadata": {
        "colab": {
          "base_uri": "https://localhost:8080/"
        },
        "id": "rLSpUuk1_Qey",
        "outputId": "984167c0-358a-4673-8ab0-72657612f0e1"
      },
      "execution_count": null,
      "outputs": [
        {
          "output_type": "stream",
          "name": "stdout",
          "text": [
            "Empty DataFrame\n",
            "Columns: []\n",
            "Index: []\n"
          ]
        }
      ]
    },
    {
      "cell_type": "code",
      "source": [
        "import pandas as pd\n",
        "data=[['alex',10],['bob',11],['can',12]]\n",
        "df=pd.DataFrame(data,columns=['Name','Age'])\n",
        "print (df)"
      ],
      "metadata": {
        "colab": {
          "base_uri": "https://localhost:8080/"
        },
        "id": "B9ArjMd0Ewjc",
        "outputId": "37d52e58-6712-4e86-df91-104790d23465"
      },
      "execution_count": null,
      "outputs": [
        {
          "output_type": "stream",
          "name": "stdout",
          "text": [
            "   Name  Age\n",
            "0  alex   10\n",
            "1   bob   11\n",
            "2   can   12\n"
          ]
        }
      ]
    },
    {
      "cell_type": "code",
      "source": [
        "import pandas as pd\n",
        "data=[['alex',10],['bob',11],['can',12]]\n",
        "df = pd.DataFrame(data,columns=['Name','Age'],dtype=float)\n",
        "print (df)"
      ],
      "metadata": {
        "colab": {
          "base_uri": "https://localhost:8080/"
        },
        "id": "iylMG4jkGzkc",
        "outputId": "b8b776fe-382d-431a-df57-da54d20b5bcb"
      },
      "execution_count": null,
      "outputs": [
        {
          "output_type": "stream",
          "name": "stdout",
          "text": [
            "   Name   Age\n",
            "0  alex  10.0\n",
            "1   bob  11.0\n",
            "2   can  12.0\n"
          ]
        },
        {
          "output_type": "stream",
          "name": "stderr",
          "text": [
            "<ipython-input-25-5e965d0ee5ea>:3: FutureWarning: Could not cast to float64, falling back to object. This behavior is deprecated. In a future version, when a dtype is passed to 'DataFrame', either all columns will be cast to that dtype, or a TypeError will be raised.\n",
            "  df = pd.DataFrame(data,columns=['Name','Age'],dtype=float)\n"
          ]
        }
      ]
    },
    {
      "cell_type": "code",
      "source": [
        "import pandas as pd\n",
        "data ={'Name':['tom','jeery'],'age':[21,22]}\n",
        "df=pd.DataFrame(data,index=['rank1','rank2'])\n",
        "print(df)"
      ],
      "metadata": {
        "colab": {
          "base_uri": "https://localhost:8080/"
        },
        "id": "XzA88JTIHWAF",
        "outputId": "7d60a526-d5be-4c76-a563-0fe50c462e56"
      },
      "execution_count": null,
      "outputs": [
        {
          "output_type": "stream",
          "name": "stdout",
          "text": [
            "        Name  age\n",
            "rank1    tom   21\n",
            "rank2  jeery   22\n"
          ]
        }
      ]
    },
    {
      "cell_type": "code",
      "source": [
        "import pandas as pd\n",
        "data =[{'a':1 ,'b':2},{'a':5,'b':10,'c':20}]\n",
        "df=pd.DataFrame(data)\n",
        "print(df)"
      ],
      "metadata": {
        "colab": {
          "base_uri": "https://localhost:8080/"
        },
        "id": "vzGWyfzCHiNj",
        "outputId": "853fd3b9-901b-48d9-f6fa-9741b440539b"
      },
      "execution_count": null,
      "outputs": [
        {
          "output_type": "stream",
          "name": "stdout",
          "text": [
            "   a   b     c\n",
            "0  1   2   NaN\n",
            "1  5  10  20.0\n"
          ]
        }
      ]
    },
    {
      "cell_type": "code",
      "source": [
        "import pandas as pd\n",
        "data=[{'a':1 ,'b':2},{'a':5,'b':10,'c':20}]\n",
        "df1=pd.DataFrame(data,index=['first','second'],columns=['a','b'])\n",
        "df2=pd.DataFrame(data,index=['first','second'],columns=['a','b1'])\n",
        "print(df1)\n",
        "print(df2)\n"
      ],
      "metadata": {
        "colab": {
          "base_uri": "https://localhost:8080/"
        },
        "id": "h4swHf2dIbpx",
        "outputId": "93539706-ef8e-4939-f0e9-ebe19a87b9bb"
      },
      "execution_count": null,
      "outputs": [
        {
          "output_type": "stream",
          "name": "stdout",
          "text": [
            "        a   b\n",
            "first   1   2\n",
            "second  5  10\n",
            "        a  b1\n",
            "first   1 NaN\n",
            "second  5 NaN\n"
          ]
        }
      ]
    },
    {
      "cell_type": "code",
      "source": [],
      "metadata": {
        "id": "NrMQegqtJu9b"
      },
      "execution_count": null,
      "outputs": []
    }
  ]
}